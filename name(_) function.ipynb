{
 "cells": [
  {
   "cell_type": "markdown",
   "id": "2cea1a55",
   "metadata": {},
   "source": [
    "# `name(_)` function\n",
    "\n",
    "- Retrieves the name of a variable from the global list of variables.\n",
    "- Outputting variable names alongside their values can be useful for quality control (QC):\n",
    "    - Track steps in lengthy processes.\n",
    "    - Trace outputs while looping through objects."
   ]
  },
  {
   "cell_type": "code",
   "execution_count": 1,
   "id": "6fbcbffd",
   "metadata": {
    "ExecuteTime": {
     "end_time": "2023-08-15T02:29:09.628359Z",
     "start_time": "2023-08-15T02:29:09.366639Z"
    }
   },
   "outputs": [],
   "source": [
    "import pandas as pd"
   ]
  },
  {
   "cell_type": "code",
   "execution_count": 2,
   "id": "721ba682",
   "metadata": {
    "ExecuteTime": {
     "end_time": "2023-08-15T02:29:10.252025Z",
     "start_time": "2023-08-15T02:29:10.242563Z"
    }
   },
   "outputs": [],
   "source": [
    "## define a function for detecting object names\n",
    "def name(obj):\n",
    "    '''Returns the name of an global variable object (df, list, \n",
    "    set, dictionary, etc.) by searching `globals()`. \n",
    "    Works for global but not local variables.\n",
    "    \n",
    "    obj (type may vary):  an object accessible in the global environment.\n",
    "    \n",
    "    Adapted from stackoverflow.com/questions/31727333'''\n",
    "    \n",
    "    ## match & pull name from globals()\n",
    "    name = [x for x in globals() if globals()[x] is obj][0]\n",
    "    \n",
    "    return name"
   ]
  },
  {
   "cell_type": "code",
   "execution_count": 3,
   "id": "d49d84d2",
   "metadata": {
    "ExecuteTime": {
     "end_time": "2023-08-15T02:29:11.207599Z",
     "start_time": "2023-08-15T02:29:11.182469Z"
    }
   },
   "outputs": [
    {
     "name": "stdout",
     "output_type": "stream",
     "text": [
      "__package__:  None ~ <class 'NoneType'>\n",
      "_:   ~ <class 'str'>\n",
      "ls:  [] ~ <class 'list'>\n",
      "\n",
      "__package__:  None ~ <class 'NoneType'>\n",
      "_:   ~ <class 'str'>\n",
      "ls:  [] ~ <class 'list'>\n",
      "tu:  () ~ <class 'tuple'>\n",
      "di:  {} ~ <class 'dict'>\n",
      "se:  Series([], dtype: object) ~ <class 'pandas.core.series.Series'>\n",
      "df:  Empty DataFrame\n",
      "Columns: []\n",
      "Index: [] ~ <class 'pandas.core.frame.DataFrame'>\n"
     ]
    }
   ],
   "source": [
    "## Empty objects as examples\n",
    "n  = None      # null value\n",
    "st = \"\"        # empty string\n",
    "ls = []        # empty list\n",
    "tu = ()        # empty tuple\n",
    "di = {}        # empty dictionary\n",
    "se = pd.Series(dtype='object')  # empty pandas series\n",
    "df = pd.DataFrame()  # empty pandas data frame\n",
    "\n",
    "objects_list = [n, st, ls, tu, di, se, df]\n",
    "\n",
    "## Example of referencing objects directly\n",
    "print(f'{name(n)}:  {n} ~ {type(n)}',\n",
    "      f'{name(st)}:  {st} ~ {type(st)}',\n",
    "      f'{name(ls)}:  {ls} ~ {type(ls)}', \n",
    "      '', sep='\\n')  # print the name, value, and type\n",
    "\n",
    "## Example of looping through objects\n",
    "for obj in objects_list:\n",
    "    print(f'{name(obj)}:  {obj} ~ {type(obj)}')  # print the name, value, and type\n",
    "    del obj  # purge iterating object before next loop iteration"
   ]
  },
  {
   "cell_type": "markdown",
   "id": "266c1e87",
   "metadata": {},
   "source": [
    "- Note that some names are not propely retieved from `globals()`:\n",
    "    - the name of the empty string object `st`;\n",
    "    - the name of the object `n` with a value of `None`."
   ]
  },
  {
   "cell_type": "code",
   "execution_count": 4,
   "id": "708d1b5f",
   "metadata": {
    "ExecuteTime": {
     "end_time": "2023-08-15T02:29:12.969075Z",
     "start_time": "2023-08-15T02:29:12.944220Z"
    }
   },
   "outputs": [
    {
     "name": "stdout",
     "output_type": "stream",
     "text": [
      "n:  42 ~ <class 'int'>\n",
      "m:  42.0 ~ <class 'float'>\n",
      "st:  forty two ~ <class 'str'>\n",
      "et:  {40, 2} ~ <class 'set'>\n",
      "\n",
      "n:  42 ~ <class 'int'>\n",
      "m:  42.0 ~ <class 'float'>\n",
      "st:  forty two ~ <class 'str'>\n",
      "ls:  [40, 2] ~ <class 'list'>\n",
      "tu:  (40, 2) ~ <class 'tuple'>\n",
      "et:  {40, 2} ~ <class 'set'>\n",
      "di:  {'answer': [40, 2]} ~ <class 'dict'>\n",
      "se:  0    40\n",
      "1     2\n",
      "dtype: int64 ~ <class 'pandas.core.series.Series'>\n",
      "df:     answer\n",
      "0      40\n",
      "1       2 ~ <class 'pandas.core.frame.DataFrame'>\n"
     ]
    }
   ],
   "source": [
    "## Objects as examples\n",
    "n  = 42          # integer\n",
    "m  = 42.0        # float\n",
    "st = \"forty two\" # string\n",
    "ls = [40,2]      # list\n",
    "tu = (40,2)      # tuple\n",
    "et = {40,2}      # set\n",
    "di = {'answer': ls}   # dictionary\n",
    "se = pd.Series(ls)    # pandas series\n",
    "df = pd.DataFrame(di) # pandas data frame\n",
    "\n",
    "objects_list = [n, m, st, ls, tu, et, di, se, df]\n",
    "\n",
    "## Example of referencing objects directly\n",
    "print(f'{name(n)}:  {n} ~ {type(n)}',\n",
    "      f'{name(m)}:  {m} ~ {type(m)}',\n",
    "      f'{name(st)}:  {st} ~ {type(st)}',\n",
    "      f'{name(et)}:  {et} ~ {type(et)}', \n",
    "      '', sep='\\n')  # print the name, value, and type\n",
    "\n",
    "## Example of looping through objects \n",
    "for obj in objects_list:\n",
    "    print(f'{name(obj)}:  {obj} ~ {type(obj)}')  # print the name, value, and type\n",
    "    del obj  # purge iterating object before next loop iteration"
   ]
  },
  {
   "cell_type": "markdown",
   "id": "c297ef8e",
   "metadata": {},
   "source": [
    "- Warning: the iterating variable `obj` _may or may not_ be referenced instead of the iterated variable (e.g., `n`, `m`, etc.) if it is not purged at the end of each loop iteration.  "
   ]
  }
 ],
 "metadata": {
  "hide_input": false,
  "kernelspec": {
   "display_name": "Python 3 (ipykernel)",
   "language": "python",
   "name": "python3"
  },
  "language_info": {
   "codemirror_mode": {
    "name": "ipython",
    "version": 3
   },
   "file_extension": ".py",
   "mimetype": "text/x-python",
   "name": "python",
   "nbconvert_exporter": "python",
   "pygments_lexer": "ipython3",
   "version": "3.9.7"
  },
  "toc": {
   "base_numbering": 1,
   "nav_menu": {},
   "number_sections": true,
   "sideBar": true,
   "skip_h1_title": false,
   "title_cell": "Table of Contents",
   "title_sidebar": "Contents",
   "toc_cell": false,
   "toc_position": {},
   "toc_section_display": true,
   "toc_window_display": false
  },
  "varInspector": {
   "cols": {
    "lenName": 16,
    "lenType": 16,
    "lenVar": 40
   },
   "kernels_config": {
    "python": {
     "delete_cmd_postfix": "",
     "delete_cmd_prefix": "del ",
     "library": "var_list.py",
     "varRefreshCmd": "print(var_dic_list())"
    },
    "r": {
     "delete_cmd_postfix": ") ",
     "delete_cmd_prefix": "rm(",
     "library": "var_list.r",
     "varRefreshCmd": "cat(var_dic_list()) "
    }
   },
   "types_to_exclude": [
    "module",
    "function",
    "builtin_function_or_method",
    "instance",
    "_Feature"
   ],
   "window_display": false
  }
 },
 "nbformat": 4,
 "nbformat_minor": 5
}
